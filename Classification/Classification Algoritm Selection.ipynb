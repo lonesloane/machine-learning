{
 "cells": [
  {
   "cell_type": "markdown",
   "metadata": {},
   "source": [
    "### Load Training data"
   ]
  },
  {
   "cell_type": "code",
   "execution_count": 1,
   "metadata": {
    "collapsed": true
   },
   "outputs": [],
   "source": [
    "import pandas as pd\n",
    "import numpy as np\n",
    "import matplotlib.pyplot as plt\n",
    "from pandas import Series, DataFrame\n",
    "import pickle\n",
    "import os\n",
    "# Set figure width to 12 and height to 9\n",
    "fig_size = plt.rcParams[\"figure.figsize\"]\n",
    "fig_size[0] = 15\n",
    "fig_size[1] = 10\n",
    "plt.rcParams[\"figure.figsize\"] = fig_size\n",
    "output_folder = '/home/stephane/Playground/PycharmProjects/machine-learning/Classification/DataPrep/output/'"
   ]
  },
  {
   "cell_type": "code",
   "execution_count": 17,
   "metadata": {
    "collapsed": false
   },
   "outputs": [
    {
     "data": {
      "text/html": [
       "<div>\n",
       "<table border=\"1\" class=\"dataframe\">\n",
       "  <thead>\n",
       "    <tr style=\"text-align: right;\">\n",
       "      <th></th>\n",
       "      <th>development aid</th>\n",
       "      <th>international co-operation</th>\n",
       "      <th>aid coordination</th>\n",
       "      <th>aid institutions</th>\n",
       "      <th>development agencies</th>\n",
       "      <th>needs assessment</th>\n",
       "      <th>terms of aid</th>\n",
       "      <th>foreign aid</th>\n",
       "      <th>international organisations</th>\n",
       "      <th>regional co-operation</th>\n",
       "      <th>...</th>\n",
       "      <th>authority</th>\n",
       "      <th>appeal</th>\n",
       "      <th>award of contract</th>\n",
       "      <th>judgements</th>\n",
       "      <th>dispositions</th>\n",
       "      <th>parties</th>\n",
       "      <th>regulatory co-operation</th>\n",
       "      <th>trade costs</th>\n",
       "      <th>social media</th>\n",
       "      <th>0</th>\n",
       "    </tr>\n",
       "  </thead>\n",
       "  <tbody>\n",
       "    <tr>\n",
       "      <th>JT03336861</th>\n",
       "      <td>0</td>\n",
       "      <td>0</td>\n",
       "      <td>0</td>\n",
       "      <td>0</td>\n",
       "      <td>0</td>\n",
       "      <td>0</td>\n",
       "      <td>0</td>\n",
       "      <td>0</td>\n",
       "      <td>0</td>\n",
       "      <td>0</td>\n",
       "      <td>...</td>\n",
       "      <td>0</td>\n",
       "      <td>0</td>\n",
       "      <td>0</td>\n",
       "      <td>0</td>\n",
       "      <td>0</td>\n",
       "      <td>0</td>\n",
       "      <td>0</td>\n",
       "      <td>0</td>\n",
       "      <td>0</td>\n",
       "      <td>18</td>\n",
       "    </tr>\n",
       "    <tr>\n",
       "      <th>JT03375495</th>\n",
       "      <td>1</td>\n",
       "      <td>0</td>\n",
       "      <td>0</td>\n",
       "      <td>1</td>\n",
       "      <td>0</td>\n",
       "      <td>0</td>\n",
       "      <td>0</td>\n",
       "      <td>0</td>\n",
       "      <td>0</td>\n",
       "      <td>0</td>\n",
       "      <td>...</td>\n",
       "      <td>0</td>\n",
       "      <td>0</td>\n",
       "      <td>0</td>\n",
       "      <td>0</td>\n",
       "      <td>0</td>\n",
       "      <td>0</td>\n",
       "      <td>0</td>\n",
       "      <td>0</td>\n",
       "      <td>0</td>\n",
       "      <td>5</td>\n",
       "    </tr>\n",
       "    <tr>\n",
       "      <th>JT03376187</th>\n",
       "      <td>1</td>\n",
       "      <td>0</td>\n",
       "      <td>0</td>\n",
       "      <td>0</td>\n",
       "      <td>0</td>\n",
       "      <td>0</td>\n",
       "      <td>0</td>\n",
       "      <td>0</td>\n",
       "      <td>0</td>\n",
       "      <td>0</td>\n",
       "      <td>...</td>\n",
       "      <td>0</td>\n",
       "      <td>0</td>\n",
       "      <td>0</td>\n",
       "      <td>0</td>\n",
       "      <td>0</td>\n",
       "      <td>0</td>\n",
       "      <td>0</td>\n",
       "      <td>1</td>\n",
       "      <td>0</td>\n",
       "      <td>5</td>\n",
       "    </tr>\n",
       "    <tr>\n",
       "      <th>JT03328827</th>\n",
       "      <td>0</td>\n",
       "      <td>0</td>\n",
       "      <td>0</td>\n",
       "      <td>0</td>\n",
       "      <td>0</td>\n",
       "      <td>0</td>\n",
       "      <td>0</td>\n",
       "      <td>0</td>\n",
       "      <td>0</td>\n",
       "      <td>0</td>\n",
       "      <td>...</td>\n",
       "      <td>0</td>\n",
       "      <td>0</td>\n",
       "      <td>0</td>\n",
       "      <td>0</td>\n",
       "      <td>0</td>\n",
       "      <td>0</td>\n",
       "      <td>0</td>\n",
       "      <td>0</td>\n",
       "      <td>0</td>\n",
       "      <td>20</td>\n",
       "    </tr>\n",
       "    <tr>\n",
       "      <th>JT03319247</th>\n",
       "      <td>0</td>\n",
       "      <td>0</td>\n",
       "      <td>0</td>\n",
       "      <td>0</td>\n",
       "      <td>0</td>\n",
       "      <td>0</td>\n",
       "      <td>0</td>\n",
       "      <td>0</td>\n",
       "      <td>0</td>\n",
       "      <td>0</td>\n",
       "      <td>...</td>\n",
       "      <td>0</td>\n",
       "      <td>0</td>\n",
       "      <td>0</td>\n",
       "      <td>0</td>\n",
       "      <td>0</td>\n",
       "      <td>0</td>\n",
       "      <td>0</td>\n",
       "      <td>0</td>\n",
       "      <td>0</td>\n",
       "      <td>8</td>\n",
       "    </tr>\n",
       "  </tbody>\n",
       "</table>\n",
       "<p>5 rows × 2244 columns</p>\n",
       "</div>"
      ],
      "text/plain": [
       "            development aid  international co-operation  aid coordination  \\\n",
       "JT03336861                0                           0                 0   \n",
       "JT03375495                1                           0                 0   \n",
       "JT03376187                1                           0                 0   \n",
       "JT03328827                0                           0                 0   \n",
       "JT03319247                0                           0                 0   \n",
       "\n",
       "            aid institutions  development agencies  needs assessment  \\\n",
       "JT03336861                 0                     0                 0   \n",
       "JT03375495                 1                     0                 0   \n",
       "JT03376187                 0                     0                 0   \n",
       "JT03328827                 0                     0                 0   \n",
       "JT03319247                 0                     0                 0   \n",
       "\n",
       "            terms of aid  foreign aid  international organisations  \\\n",
       "JT03336861             0            0                            0   \n",
       "JT03375495             0            0                            0   \n",
       "JT03376187             0            0                            0   \n",
       "JT03328827             0            0                            0   \n",
       "JT03319247             0            0                            0   \n",
       "\n",
       "            regional co-operation ...  authority  appeal  award of contract  \\\n",
       "JT03336861                      0 ...          0       0                  0   \n",
       "JT03375495                      0 ...          0       0                  0   \n",
       "JT03376187                      0 ...          0       0                  0   \n",
       "JT03328827                      0 ...          0       0                  0   \n",
       "JT03319247                      0 ...          0       0                  0   \n",
       "\n",
       "            judgements  dispositions  parties  regulatory co-operation  \\\n",
       "JT03336861           0             0        0                        0   \n",
       "JT03375495           0             0        0                        0   \n",
       "JT03376187           0             0        0                        0   \n",
       "JT03328827           0             0        0                        0   \n",
       "JT03319247           0             0        0                        0   \n",
       "\n",
       "            trade costs  social media   0  \n",
       "JT03336861            0             0  18  \n",
       "JT03375495            0             0   5  \n",
       "JT03376187            1             0   5  \n",
       "JT03328827            0             0  20  \n",
       "JT03319247            0             0   8  \n",
       "\n",
       "[5 rows x 2244 columns]"
      ]
     },
     "execution_count": 17,
     "metadata": {},
     "output_type": "execute_result"
    }
   ],
   "source": [
    "files_mappings_df = pd.read_hdf(path_or_buf=os.path.join(output_folder, 'train/files_mappings_df.hd5'), key='files_mappings')\n",
    "files_mappings_df.head()"
   ]
  },
  {
   "cell_type": "code",
   "execution_count": 10,
   "metadata": {
    "collapsed": false
   },
   "outputs": [
    {
     "name": "stdout",
     "output_type": "stream",
     "text": [
      "<class 'pandas.core.frame.DataFrame'>\n",
      "Index: 802 entries, JT03336861 to JT03374028\n",
      "Columns: 2244 entries, development aid to 0\n",
      "dtypes: int8(2244)\n",
      "memory usage: 1.7+ MB\n"
     ]
    }
   ],
   "source": [
    "files_mappings_df.info()"
   ]
  },
  {
   "cell_type": "code",
   "execution_count": 28,
   "metadata": {
    "collapsed": false
   },
   "outputs": [],
   "source": [
    "from sklearn.svm import LinearSVC\n",
    "from sklearn.multiclass import OneVsRestClassifier\n",
    "\n",
    "X, y = files_mappings_df.loc[:, 'development aid':'social media'], files_mappings_df.iloc[:, 2243:2244]"
   ]
  },
  {
   "cell_type": "code",
   "execution_count": 19,
   "metadata": {
    "collapsed": false
   },
   "outputs": [
    {
     "data": {
      "text/plain": [
       "(802, 2243)"
      ]
     },
     "execution_count": 19,
     "metadata": {},
     "output_type": "execute_result"
    }
   ],
   "source": [
    "X.shape"
   ]
  },
  {
   "cell_type": "code",
   "execution_count": 35,
   "metadata": {
    "collapsed": false
   },
   "outputs": [],
   "source": [
    "from sklearn.cluster import KMeans\n",
    "km = KMeans(n_clusters=29, \n",
    "           init='random',\n",
    "           n_init=10,\n",
    "           max_iter=300,\n",
    "           tol=1e-04,\n",
    "           random_state=0)\n",
    "y_km = km.fit_predict(X)"
   ]
  },
  {
   "cell_type": "code",
   "execution_count": 25,
   "metadata": {
    "collapsed": false
   },
   "outputs": [
    {
     "data": {
      "text/plain": [
       "(802,)"
      ]
     },
     "execution_count": 25,
     "metadata": {},
     "output_type": "execute_result"
    }
   ],
   "source": [
    "y_km.view().shape"
   ]
  },
  {
   "cell_type": "code",
   "execution_count": 37,
   "metadata": {
    "collapsed": false
   },
   "outputs": [
    {
     "data": {
      "image/png": "[encoded data removed]",
      "text/plain": [
       "<matplotlib.figure.Figure at 0x7fe642f16f60>"
      ]
     },
     "metadata": {},
     "output_type": "display_data"
    }
   ],
   "source": [
    "fig = plt.figure()\n",
    "ax = fig.add_subplot(1, 1, 1)\n",
    "ax.set_ylim(-1, 29)\n",
    "ax.hlines(np.arange(0,29), 0, 802)\n",
    "plt.yticks(np.arange(0,29))\n",
    "plt.scatter(np.arange(0,len(y)), y[:]-1, marker='o', color='blue')\n",
    "plt.scatter(np.arange(0,len(y_km)), y_km[:], marker='s', color='red')\n",
    "plt.show()"
   ]
  },
  {
   "cell_type": "code",
   "execution_count": 38,
   "metadata": {
    "collapsed": false
   },
   "outputs": [
    {
     "name": "stdout",
     "output_type": "stream",
     "text": [
      "Distortion: 9044.88\n"
     ]
    }
   ],
   "source": [
    "print(\"Distortion: %.2f\" % km.inertia_)"
   ]
  },
  {
   "cell_type": "code",
   "execution_count": 43,
   "metadata": {
    "collapsed": false
   },
   "outputs": [
    {
     "data": {
      "image/png": "[encoded data removed]",
      "text/plain": [
       "<matplotlib.figure.Figure at 0x7fe642e423c8>"
      ]
     },
     "metadata": {},
     "output_type": "display_data"
    }
   ],
   "source": [
    "distortions = []\n",
    "for i in range(30,50):\n",
    "    km = KMeans(n_clusters=i,\n",
    "               init='k-means++',\n",
    "               n_init=10,\n",
    "               max_iter=300,\n",
    "               random_state=0)\n",
    "    km.fit(X)\n",
    "    distortions.append(km.inertia_)\n",
    "plt.plot(range(30,50), distortions, marker='o')\n",
    "plt.xlabel('Number of clusters')\n",
    "plt.ylabel('Distortion')\n",
    "plt.show()"
   ]
  },
  {
   "cell_type": "code",
   "execution_count": 45,
   "metadata": {
    "collapsed": false
   },
   "outputs": [
    {
     "name": "stdout",
     "output_type": "stream",
     "text": [
      "Cluster labels: [ 0  0 13  2  0  6 22  0  6  0  0 24  0  0  0  6  9  0  0  0  9  0  0  0  0\n",
      "  0  6  0 10  0  6  5  6  0  0  4  0  0  0  0  6  0  0  0  0  6  5  6 18  6\n",
      "  0  0  4  0  0  0  6  8 23  0  0  0  0  0  6  0  8  0 13  0  0  0  6 25  6\n",
      "  0 13 13  0  0  0  6 11  0  0 24  0 13  1  6  0  0  0  0  0  9  0 28  0  0\n",
      "  5  0  6 18  0 11  0  0  0  2  6  0 18 21  7 24  0  0  0 13  0  0  0  0  0\n",
      "  0  5  0  0  0 10  0  0  6 26 13 21  8  3  6  0  1 23  1  0  0  0  0  2 15\n",
      " 13  0  0  6 16  1  0  0  6 12  0  0  0 24  0  0  0 20  0  0  0  0  5  0 21\n",
      " 11 28 23  0 22  0  0 28 19  0  0 26  0  0  6  0  1  6  0  9  0  6  0 13 14\n",
      "  6  9  0  0  7  0  0  0  6  0 13  0  0 13  5 21 13  0  0 22  0  0  0  1  0\n",
      " 24  0  6  0  0  0 12  0  0  0  0  0 12  0  4  6 22  6  0 11  0  0  2 10  0\n",
      "  0  0  0  8 13 22  0  0  0  9 13 13  0  0 18  0 26  5 13  0 10  6  0  6 26\n",
      "  0  5 21  5  6  0  6  9  0  0  1  0  0 26  7  2  0  0  8  2  0 10 19 12  0\n",
      "  0  7 18  0 11  0  1 14 12  0  0 26  4  4  0  2  0  0  0  6  0  0 12  0 22\n",
      "  0  0 13  0 22  6  0  0  6  0  6 13  2  0  1 22  0 19  0  0  0  0  0  0 25\n",
      " 21  0  0 10  0  6 20  0 20  0  5  0  0  0  0  1  0  0  0  1 28  0  0  2  0\n",
      "  6 21  0  0  0 26 25  5  0  6 26  1  0  0  0  0  4  5 22 13  0 18 12 28  3\n",
      "  0  0 16  0 28  0  0  0  0  0  0  0  0  0 26  0  0  0  0  0  0 13  6  6  0\n",
      "  0  1  0  9 13  0 13  0  0  0  0  0  0  9  0  0 26  0  0  0  9  0  9 21  0\n",
      "  8  0  2  0  0 22 22  0  0  0  2  5 21  6 11  0 20  0 11  8 10  0 22 22  0\n",
      "  6  5  0  0  0  0 13  0  0  0  0 12 26  6  0  0 24 13  0  0  7  0 12  0  0\n",
      "  0  8  0 10  7  0  1  0  0 13  0  0 13  5  6  0 12 12 13 21  0 13 13  0 19\n",
      "  8 14 20  0  0 26  0 20  0  0  0  8  0  1 28 10  0  0  0  0  0  6  0 27  0\n",
      "  0  5 21 13  0  0 25  0 23 13  0 13  0  0 13  0  0  0  9  0  0  0  6 28  2\n",
      " 13  7  0  9  0  0  0  0  0 21 22  0  0 26 12 26 22 22  0  5  0  5 24  0  0\n",
      "  8  3  0 25  0  0 26 24 12  6  0 12  1  0  0  8  5 12 10 17  0 12  4  0 26\n",
      "  0  0  0 13  0  6 21  0  5  6 20 18  0  1 11  0  0  9  9 26 26  1  6  0  6\n",
      " 13 13  7  0 13  0 16  0 17  0  1 14 25  0  0  0  0 12  6  0  6  0  0  0  0\n",
      "  0  0 13 24 24  0  3 12  0 22  0  0 10 20  0 28 25  0  5  0  8 26  5  5 24\n",
      "  6  0  0  0  0 21 15  7  0 18  0  0  0 24  0 19  0  0 28 26 12 15 26  3  5\n",
      "  2  0  5 22  0 12 13  0 28  0 23  0  6 21 12  0 18 24 13 19  0 28  5  0  0\n",
      "  0  0  0  0 20  0  0  2  0  0  0  0  0  5  0  0  0 20  6 16  8  0  0  0  0\n",
      "  2  0  1 16 16  0  0  0 24 12 13  2 24  4 13  0 21  4  0  6  2  0  6  0  3\n",
      "  4  5]\n"
     ]
    }
   ],
   "source": [
    "from sklearn.cluster import AgglomerativeClustering\n",
    "ac = AgglomerativeClustering(n_clusters=29,\n",
    "                            affinity='euclidean',\n",
    "                            linkage='complete')\n",
    "labels = ac.fit_predict(X)\n",
    "print('Cluster labels: %s' % labels)"
   ]
  },
  {
   "cell_type": "code",
   "execution_count": 47,
   "metadata": {
    "collapsed": false
   },
   "outputs": [
    {
     "data": {
      "text/plain": [
       "array([ 0,  1,  2,  3,  4,  5,  6,  7,  8,  9, 10, 11, 12, 13, 14, 15, 16,\n",
       "       17, 18, 19, 20, 21, 22, 23, 24, 25, 26, 27, 28])"
      ]
     },
     "execution_count": 47,
     "metadata": {},
     "output_type": "execute_result"
    }
   ],
   "source": [
    "np.unique(labels)"
   ]
  },
  {
   "cell_type": "code",
   "execution_count": 51,
   "metadata": {
    "collapsed": false
   },
   "outputs": [
    {
     "name": "stdout",
     "output_type": "stream",
     "text": [
      "Estimated number of clusters: 65\n",
      "Silhouette Coefficient: 0.032\n"
     ]
    }
   ],
   "source": [
    "from sklearn.cluster import AffinityPropagation\n",
    "from sklearn import metrics\n",
    "\n",
    "af = AffinityPropagation().fit(X)\n",
    "cluster_centers_indices = af.cluster_centers_indices_\n",
    "labels = af.labels_\n",
    "\n",
    "n_clusters_ = len(cluster_centers_indices)\n",
    "\n",
    "print('Estimated number of clusters: %d' % n_clusters_)\n",
    "print(\"Silhouette Coefficient: %0.3f\"\n",
    "      % metrics.silhouette_score(X, labels, metric='sqeuclidean'))\n"
   ]
  },
  {
   "cell_type": "code",
   "execution_count": 58,
   "metadata": {
    "collapsed": true
   },
   "outputs": [],
   "source": [
    "from sklearn.cluster import Birch\n",
    "birch_model = Birch(threshold=1.7, n_clusters=29)\n",
    "y_birch = birch_model.fit(X)"
   ]
  },
  {
   "cell_type": "code",
   "execution_count": 59,
   "metadata": {
    "collapsed": false
   },
   "outputs": [
    {
     "data": {
      "text/plain": [
       "array([18,  8, 24, 13, 10,  0, 23,  9,  0,  7, 28, 16, 28, 14,  7,  0,  6,\n",
       "       12, 23, 13,  6,  8, 11, 12, 13, 18,  0,  8, 26,  8,  0,  5,  3,  7,\n",
       "       18, 13, 18,  8, 12,  9,  0,  1, 11, 15,  7,  0,  5,  6,  1,  2, 23,\n",
       "        2, 13,  8,  6, 13,  0, 19, 12, 12,  9,  5, 14,  6,  3, 10, 13,  8,\n",
       "       20,  8,  6,  1,  0, 15,  0,  8, 24, 20, 18, 13,  8,  0,  1, 16,  6,\n",
       "       16,  3, 20,  3,  0, 21, 16, 28, 13,  5, 10, 21,  5,  6,  6,  5,  5,\n",
       "        0, 13, 12,  1, 13, 23, 10, 13,  0,  4, 13, 17, 22, 16, 28,  7,  8,\n",
       "       24, 13, 14,  8, 28, 23, 22,  5, 15,  6,  9, 26, 23, 14,  0, 11, 24,\n",
       "       17, 19,  9,  0, 11,  3, 17,  3,  8,  1, 22, 13, 20,  2, 24, 28, 13,\n",
       "        4,  2,  3, 22, 28,  0, 19, 21,  6, 18, 16, 21,  8,  6, 27,  6, 28,\n",
       "        4, 21,  1, 10, 17,  1,  5,  7,  6, 25,  7,  8,  5, 13, 28, 23, 11,\n",
       "       14, 13,  4,  8,  3,  0, 13,  6, 22, 13,  8, 13, 18,  0, 10,  1,  9,\n",
       "       15,  2,  5, 18, 13,  5, 20, 13, 13, 24,  5, 17, 13, 15,  4, 25,  6,\n",
       "        8, 28,  3,  2, 16, 11,  0,  4,  2,  8, 19, 13,  3,  0,  7, 15, 19,\n",
       "       23, 14,  2, 25,  0, 23,  1, 23, 18, 20,  3, 15,  6, 13, 18,  5, 24,\n",
       "       25,  7,  8, 14,  6,  6,  8, 14, 12, 13, 14, 11, 13, 24, 17, 26,  0,\n",
       "        2,  0, 10,  6,  5, 17,  5,  0, 15,  0,  6,  6, 13,  3,  9, 13,  6,\n",
       "       15,  6,  8, 13,  5, 13, 28, 26, 13, 19,  9, 18, 15,  1, 13,  1, 23,\n",
       "        1,  5,  1, 23, 18,  8, 14, 13,  1, 13,  6, 13, 12,  0,  2, 28,  1,\n",
       "        6, 25,  1,  6, 20,  9, 25,  0, 23,  1,  4,  7,  2, 24, 20, 12,  3,\n",
       "       25,  7, 13,  7, 16, 21, 10, 21,  4, 13, 17,  8, 23, 26,  9,  4, 11,\n",
       "        9, 27, 13,  5, 23,  4,  9,  4,  3,  4, 28, 18,  3,  5, 28, 13, 20,\n",
       "        2,  0, 17,  4, 10,  8, 11,  8,  5, 16,  0, 11,  3, 13, 13,  2, 22,\n",
       "       13,  5, 23, 24, 22,  1, 19,  5,  7, 23, 18,  2,  6,  5,  3,  6, 23,\n",
       "       13, 28,  1,  7, 12,  6,  8, 16,  9,  2, 23, 28, 13, 24,  2,  0, 16,\n",
       "       13,  3, 13, 10, 24,  8, 24,  7, 23, 28,  0,  7,  1,  6,  9,  1,  6,\n",
       "        3, 13,  9,  6, 18,  6, 17, 15,  1, 22, 13, 23, 13, 25, 25,  2, 14,\n",
       "        8, 11,  5, 17, 13,  1,  8, 27, 23,  1, 13,  3, 15, 25, 25,  8,  0,\n",
       "        5, 21, 21, 14,  7, 13, 22, 14,  8,  1, 19, 11, 13, 13, 11, 16, 24,\n",
       "        8, 22, 15, 14, 19,  9, 18, 16, 13,  6, 26, 15,  8,  3,  4,  8, 23,\n",
       "       14, 23, 13,  5,  0,  7, 19, 19, 24, 17, 22, 20, 20, 13, 13, 13, 18,\n",
       "       27, 13,  8,  2,  1, 27,  6, 13, 22,  5, 12,  3,  5, 26, 23,  4, 21,\n",
       "       11, 13,  0,  7, 14,  4, 22,  5, 17, 24,  3, 21, 13,  8,  7, 13,  7,\n",
       "       20,  2, 10, 13, 13, 15,  7,  6, 18, 15,  6,  0,  5, 13, 24, 15, 10,\n",
       "        6, 15,  6,  1,  1,  6, 17, 25, 21, 22, 11,  1,  7, 25, 25, 28,  5,\n",
       "        3,  5, 16, 23, 23, 19,  9,  2, 15, 14, 28, 11, 16, 19,  2, 28, 19,\n",
       "        1,  2, 23, 19,  5, 19,  3, 13, 28,  1, 14, 18, 11, 23, 23,  2, 24,\n",
       "        7,  4, 17,  3,  5,  0, 27, 13,  9,  3,  1, 15, 28,  6,  6, 10,  8,\n",
       "        3,  2, 12, 13, 20, 20, 15,  6, 24, 22,  2,  0, 13, 13,  3, 18, 15,\n",
       "        7,  8, 18,  4,  1,  4, 14, 13, 18, 18, 13, 19,  8, 16, 20, 16, 16,\n",
       "       15,  9, 19,  2, 25,  6, 28, 26, 27,  9,  5, 15, 13,  5, 18, 19,  6,\n",
       "        5,  5, 16,  6, 13, 21, 15, 13, 17,  2, 15, 14, 13,  1, 13,  9, 16,\n",
       "        4, 13,  8, 23,  5, 11, 19,  2, 11,  7,  5, 20, 13,  5, 25,  6,  1,\n",
       "       13,  2,  5, 13,  7, 13,  2, 17, 19,  2, 13, 16,  6, 13,  1,  5,  5,\n",
       "        7,  0, 15, 23,  5,  4, 27, 28,  4, 13,  9,  8, 13, 18,  4,  5,  9,\n",
       "       12, 14, 27,  3,  2, 19, 20,  4,  8, 28, 13, 22,  3, 13,  2,  2, 12,\n",
       "       13, 16, 19,  8, 13, 16, 14, 24,  2, 17, 14, 28,  0, 13, 28,  2, 22,\n",
       "        7, 14,  5])"
      ]
     },
     "execution_count": 59,
     "metadata": {},
     "output_type": "execute_result"
    }
   ],
   "source": [
    "y_birch.labels_"
   ]
  },
  {
   "cell_type": "code",
   "execution_count": 13,
   "metadata": {
    "collapsed": false
   },
   "outputs": [
    {
     "data": {
      "text/html": [
       "<div>\n",
       "<table border=\"1\" class=\"dataframe\">\n",
       "  <thead>\n",
       "    <tr style=\"text-align: right;\">\n",
       "      <th></th>\n",
       "      <th>development aid</th>\n",
       "      <th>international co-operation</th>\n",
       "      <th>aid coordination</th>\n",
       "      <th>aid institutions</th>\n",
       "      <th>development agencies</th>\n",
       "      <th>needs assessment</th>\n",
       "      <th>terms of aid</th>\n",
       "      <th>foreign aid</th>\n",
       "      <th>international organisations</th>\n",
       "      <th>regional co-operation</th>\n",
       "      <th>...</th>\n",
       "      <th>foreign corporations</th>\n",
       "      <th>authority</th>\n",
       "      <th>appeal</th>\n",
       "      <th>award of contract</th>\n",
       "      <th>judgements</th>\n",
       "      <th>dispositions</th>\n",
       "      <th>parties</th>\n",
       "      <th>regulatory co-operation</th>\n",
       "      <th>trade costs</th>\n",
       "      <th>social media</th>\n",
       "    </tr>\n",
       "  </thead>\n",
       "  <tbody>\n",
       "    <tr>\n",
       "      <th>JT03336861</th>\n",
       "      <td>0</td>\n",
       "      <td>0</td>\n",
       "      <td>0</td>\n",
       "      <td>0</td>\n",
       "      <td>0</td>\n",
       "      <td>0</td>\n",
       "      <td>0</td>\n",
       "      <td>0</td>\n",
       "      <td>0</td>\n",
       "      <td>0</td>\n",
       "      <td>...</td>\n",
       "      <td>0</td>\n",
       "      <td>0</td>\n",
       "      <td>0</td>\n",
       "      <td>0</td>\n",
       "      <td>0</td>\n",
       "      <td>0</td>\n",
       "      <td>0</td>\n",
       "      <td>0</td>\n",
       "      <td>0</td>\n",
       "      <td>0</td>\n",
       "    </tr>\n",
       "    <tr>\n",
       "      <th>JT03375495</th>\n",
       "      <td>1</td>\n",
       "      <td>0</td>\n",
       "      <td>0</td>\n",
       "      <td>1</td>\n",
       "      <td>0</td>\n",
       "      <td>0</td>\n",
       "      <td>0</td>\n",
       "      <td>0</td>\n",
       "      <td>0</td>\n",
       "      <td>0</td>\n",
       "      <td>...</td>\n",
       "      <td>0</td>\n",
       "      <td>0</td>\n",
       "      <td>0</td>\n",
       "      <td>0</td>\n",
       "      <td>0</td>\n",
       "      <td>0</td>\n",
       "      <td>0</td>\n",
       "      <td>0</td>\n",
       "      <td>0</td>\n",
       "      <td>0</td>\n",
       "    </tr>\n",
       "    <tr>\n",
       "      <th>JT03376187</th>\n",
       "      <td>1</td>\n",
       "      <td>0</td>\n",
       "      <td>0</td>\n",
       "      <td>0</td>\n",
       "      <td>0</td>\n",
       "      <td>0</td>\n",
       "      <td>0</td>\n",
       "      <td>0</td>\n",
       "      <td>0</td>\n",
       "      <td>0</td>\n",
       "      <td>...</td>\n",
       "      <td>0</td>\n",
       "      <td>0</td>\n",
       "      <td>0</td>\n",
       "      <td>0</td>\n",
       "      <td>0</td>\n",
       "      <td>0</td>\n",
       "      <td>0</td>\n",
       "      <td>0</td>\n",
       "      <td>1</td>\n",
       "      <td>0</td>\n",
       "    </tr>\n",
       "    <tr>\n",
       "      <th>JT03328827</th>\n",
       "      <td>0</td>\n",
       "      <td>0</td>\n",
       "      <td>0</td>\n",
       "      <td>0</td>\n",
       "      <td>0</td>\n",
       "      <td>0</td>\n",
       "      <td>0</td>\n",
       "      <td>0</td>\n",
       "      <td>0</td>\n",
       "      <td>0</td>\n",
       "      <td>...</td>\n",
       "      <td>0</td>\n",
       "      <td>0</td>\n",
       "      <td>0</td>\n",
       "      <td>0</td>\n",
       "      <td>0</td>\n",
       "      <td>0</td>\n",
       "      <td>0</td>\n",
       "      <td>0</td>\n",
       "      <td>0</td>\n",
       "      <td>0</td>\n",
       "    </tr>\n",
       "    <tr>\n",
       "      <th>JT03319247</th>\n",
       "      <td>0</td>\n",
       "      <td>0</td>\n",
       "      <td>0</td>\n",
       "      <td>0</td>\n",
       "      <td>0</td>\n",
       "      <td>0</td>\n",
       "      <td>0</td>\n",
       "      <td>0</td>\n",
       "      <td>0</td>\n",
       "      <td>0</td>\n",
       "      <td>...</td>\n",
       "      <td>0</td>\n",
       "      <td>0</td>\n",
       "      <td>0</td>\n",
       "      <td>0</td>\n",
       "      <td>0</td>\n",
       "      <td>0</td>\n",
       "      <td>0</td>\n",
       "      <td>0</td>\n",
       "      <td>0</td>\n",
       "      <td>0</td>\n",
       "    </tr>\n",
       "  </tbody>\n",
       "</table>\n",
       "<p>5 rows × 2243 columns</p>\n",
       "</div>"
      ],
      "text/plain": [
       "            development aid  international co-operation  aid coordination  \\\n",
       "JT03336861                0                           0                 0   \n",
       "JT03375495                1                           0                 0   \n",
       "JT03376187                1                           0                 0   \n",
       "JT03328827                0                           0                 0   \n",
       "JT03319247                0                           0                 0   \n",
       "\n",
       "            aid institutions  development agencies  needs assessment  \\\n",
       "JT03336861                 0                     0                 0   \n",
       "JT03375495                 1                     0                 0   \n",
       "JT03376187                 0                     0                 0   \n",
       "JT03328827                 0                     0                 0   \n",
       "JT03319247                 0                     0                 0   \n",
       "\n",
       "            terms of aid  foreign aid  international organisations  \\\n",
       "JT03336861             0            0                            0   \n",
       "JT03375495             0            0                            0   \n",
       "JT03376187             0            0                            0   \n",
       "JT03328827             0            0                            0   \n",
       "JT03319247             0            0                            0   \n",
       "\n",
       "            regional co-operation      ...       foreign corporations  \\\n",
       "JT03336861                      0      ...                          0   \n",
       "JT03375495                      0      ...                          0   \n",
       "JT03376187                      0      ...                          0   \n",
       "JT03328827                      0      ...                          0   \n",
       "JT03319247                      0      ...                          0   \n",
       "\n",
       "            authority  appeal  award of contract  judgements  dispositions  \\\n",
       "JT03336861          0       0                  0           0             0   \n",
       "JT03375495          0       0                  0           0             0   \n",
       "JT03376187          0       0                  0           0             0   \n",
       "JT03328827          0       0                  0           0             0   \n",
       "JT03319247          0       0                  0           0             0   \n",
       "\n",
       "            parties  regulatory co-operation  trade costs  social media  \n",
       "JT03336861        0                        0            0             0  \n",
       "JT03375495        0                        0            0             0  \n",
       "JT03376187        0                        0            1             0  \n",
       "JT03328827        0                        0            0             0  \n",
       "JT03319247        0                        0            0             0  \n",
       "\n",
       "[5 rows x 2243 columns]"
      ]
     },
     "execution_count": 13,
     "metadata": {},
     "output_type": "execute_result"
    }
   ],
   "source": [
    "X.head()"
   ]
  },
  {
   "cell_type": "code",
   "execution_count": 14,
   "metadata": {
    "collapsed": false
   },
   "outputs": [
    {
     "data": {
      "text/plain": [
       "array([18,  5,  5, 20,  8, 27, 24, 13, 18,  3, 18,  5, 10, 13, 21,  7, 13,\n",
       "        3, 10, 13, 15, 14, 16,  3, 26, 29, 27, 23, 21, 21, 27, 17, 16, 10,\n",
       "       29, 10, 29,  4,  3, 13, 18, 16, 18, 12,  9, 27, 17, 16, 18, 27, 25,\n",
       "        6, 10, 14, 13, 26, 27, 27,  3,  3,  6, 26,  2, 17,  1,  8,  1,  4,\n",
       "        4, 21, 21, 18, 27,  9, 27, 23, 22, 28, 29,  8,  5, 27, 16, 18, 29,\n",
       "        5,  1,  1, 18, 18,  9, 16, 18, 16,  4,  8, 15, 19,  3, 16, 19, 19,\n",
       "       18,  3,  3, 16, 29, 25,  8, 20, 18,  6, 20,  3, 12,  5,  5,  3, 18,\n",
       "        4, 29,  2,  4, 21, 25, 11, 17, 10, 21, 13, 21, 25, 10, 27, 14, 22,\n",
       "        3, 28,  6, 27, 16,  1,  3, 16, 27, 16, 11, 29,  1, 21,  5,  5, 27,\n",
       "       21, 18,  1, 11,  5, 27, 28, 13,  6, 29,  5, 15, 27, 13, 23, 21,  5,\n",
       "       18, 15, 17,  9,  1, 16, 19,  3, 15, 24,  4,  2, 19,  8,  5, 25, 14,\n",
       "       26, 26,  1, 21, 18, 27,  5, 13, 11, 27, 18, 22, 29, 18,  8, 16, 14,\n",
       "       12, 18, 19, 29, 27,  1,  4, 20, 26,  5, 17, 24, 22,  9, 18, 24, 15,\n",
       "        3,  5, 16, 18, 21,  8, 27, 18, 18, 13, 28, 29, 18, 28,  3, 10, 28,\n",
       "       25,  2, 16, 24, 27, 25,  5, 25, 29,  8,  1,  9,  4, 10, 29, 17,  5,\n",
       "       24, 21, 13, 26, 15, 25,  4, 13,  3, 20, 13,  8, 17,  5, 24, 21, 27,\n",
       "       18, 29,  8, 17, 17, 24, 17, 27,  9, 27, 13, 17,  5, 16, 21, 26, 15,\n",
       "       12, 13, 14, 18, 17, 20,  5, 21,  8, 28, 16, 29, 12, 18, 13, 16, 25,\n",
       "       28, 16, 28, 25, 29, 21,  2, 10, 16,  6, 13,  4,  3, 16, 18,  5, 28,\n",
       "       21, 24, 16, 16, 16, 21, 24, 27, 25, 16, 18,  3, 27,  5,  4,  3, 16,\n",
       "       24,  6,  8,  6, 18, 13, 10, 15, 18,  1,  3, 26, 25, 21, 13, 18, 14,\n",
       "        6, 14, 10, 17, 16, 18, 13, 18,  1,  9,  5, 29, 18, 19,  5,  4,  8,\n",
       "       18, 27, 24, 18,  8,  2, 15,  6, 17, 18,  7, 14,  1,  5,  4,  6, 11,\n",
       "        6, 19, 24, 18, 25, 18, 28, 19, 10, 25, 29, 18, 15, 19,  1, 13, 10,\n",
       "       26,  5, 18,  3,  3, 17,  4, 18,  3, 18, 10,  5, 28,  5,  6, 29, 16,\n",
       "       28, 16, 11,  8,  5,  4,  5,  9, 25,  5,  6,  3, 18, 15, 13, 16, 13,\n",
       "        1, 29,  6, 13, 21, 13,  3,  9, 17, 11, 20, 25, 29, 24, 21, 16,  2,\n",
       "       14,  8, 19, 24, 27, 16,  3, 23, 25, 18,  1, 16,  9, 24, 24,  4, 27,\n",
       "       17, 15,  6,  2,  9, 22, 11, 10, 18, 16, 28, 15, 27, 26,  8,  5,  5,\n",
       "        3, 11, 12,  9, 28,  6, 29, 18,  1, 24, 21, 12, 21, 16, 18,  5, 25,\n",
       "        2, 25, 22, 17, 27,  3, 28, 28,  4, 24, 11,  1,  4,  9,  8,  1, 29,\n",
       "       23,  4,  4, 16, 16, 14, 16, 20, 11, 17,  3, 16, 16, 21, 25, 18, 13,\n",
       "       16, 19,  8, 21,  2, 18, 11, 17, 24,  5, 18, 15, 27, 27,  3, 25,  3,\n",
       "       22, 18,  9, 24, 10, 21,  3, 13, 29,  5, 13, 27, 19,  6, 22, 12,  8,\n",
       "       13, 10, 15, 25, 28, 15, 24, 24, 13, 11,  8, 28,  3, 24, 24,  5, 17,\n",
       "       18, 17,  5, 25, 25, 28,  6, 18,  9, 21,  5, 18,  5, 28,  5,  5, 28,\n",
       "       28, 18, 25, 28, 19, 28, 18,  6,  5, 28,  2, 29,  8, 25, 25, 29,  5,\n",
       "       10, 18,  3, 18, 17, 27, 14,  3,  6, 18, 16, 12,  5, 15,  3,  8, 21,\n",
       "       16, 16,  3, 29,  5,  4, 12, 17, 22, 20, 16, 28,  6,  6,  1, 29,  9,\n",
       "        3,  4, 29, 18, 28,  1,  2, 26, 29, 29,  3, 23, 27, 16, 16, 21, 16,\n",
       "        6,  6, 28, 18, 24, 17,  5, 21, 23, 16, 19,  9, 13, 19, 29, 28, 15,\n",
       "       17, 19,  5, 16, 20, 13,  9, 10, 24, 21, 12, 26,  3, 16, 29, 13,  5,\n",
       "       18,  8, 27, 25, 19, 25, 28, 21, 18, 10, 17,  8, 19, 17, 24, 21, 28,\n",
       "       22,  4, 19,  7,  9,  3, 16, 24, 28,  7, 20, 10,  4,  8, 18, 16, 17,\n",
       "        3, 28, 18, 25, 26, 18, 23,  1,  6,  8, 14,  2,  7, 29,  7,  5, 24,\n",
       "       14, 10, 23, 16, 16,  1, 13, 18, 23,  5, 20, 11,  1, 16, 18, 12,  3,\n",
       "        5,  5, 28,  4, 20,  5,  2,  5, 18, 24,  2,  5, 25,  8,  5, 27, 11,\n",
       "       10,  2, 17], dtype=int8)"
      ]
     },
     "execution_count": 14,
     "metadata": {},
     "output_type": "execute_result"
    }
   ],
   "source": [
    "np.ravel(y)"
   ]
  },
  {
   "cell_type": "code",
   "execution_count": 8,
   "metadata": {
    "collapsed": false
   },
   "outputs": [],
   "source": [
    "predicted = OneVsRestClassifier(LinearSVC(random_state=0)).fit(X,np.ravel(y)).predict(X)"
   ]
  },
  {
   "cell_type": "code",
   "execution_count": 9,
   "metadata": {
    "collapsed": false
   },
   "outputs": [
    {
     "data": {
      "image/png": "[encoded data removed]",
      "text/plain": [
       "<matplotlib.figure.Figure at 0x7f0551c1c518>"
      ]
     },
     "metadata": {},
     "output_type": "display_data"
    }
   ],
   "source": [
    "fig = plt.figure()\n",
    "ax = fig.add_subplot(1, 1, 1)\n",
    "ax.set_ylim(0, 30)\n",
    "ax.hlines(np.arange(0,31), 0, 800)\n",
    "plt.yticks(np.arange(0,31))\n",
    "plt.scatter(np.arange(0,len(predicted)), predicted[:], marker='o', color='blue')\n",
    "plt.scatter(np.arange(0,len(y)), y[:], marker='s', color='red')\n",
    "plt.show()"
   ]
  },
  {
   "cell_type": "code",
   "execution_count": 2,
   "metadata": {
    "collapsed": false
   },
   "outputs": [
    {
     "data": {
      "text/html": [
       "<div>\n",
       "<table border=\"1\" class=\"dataframe\">\n",
       "  <thead>\n",
       "    <tr style=\"text-align: right;\">\n",
       "      <th></th>\n",
       "      <th>0</th>\n",
       "      <th>1</th>\n",
       "      <th>2</th>\n",
       "      <th>3</th>\n",
       "      <th>4</th>\n",
       "      <th>5</th>\n",
       "      <th>6</th>\n",
       "      <th>7</th>\n",
       "      <th>8</th>\n",
       "      <th>9</th>\n",
       "      <th>...</th>\n",
       "      <th>6657</th>\n",
       "      <th>6658</th>\n",
       "      <th>6659</th>\n",
       "      <th>6660</th>\n",
       "      <th>6661</th>\n",
       "      <th>6662</th>\n",
       "      <th>6663</th>\n",
       "      <th>6664</th>\n",
       "      <th>6665</th>\n",
       "      <th>6666</th>\n",
       "    </tr>\n",
       "  </thead>\n",
       "  <tbody>\n",
       "    <tr>\n",
       "      <th>JT00142962</th>\n",
       "      <td>0</td>\n",
       "      <td>0</td>\n",
       "      <td>0</td>\n",
       "      <td>0</td>\n",
       "      <td>0</td>\n",
       "      <td>0</td>\n",
       "      <td>0</td>\n",
       "      <td>0</td>\n",
       "      <td>0</td>\n",
       "      <td>0</td>\n",
       "      <td>...</td>\n",
       "      <td>0</td>\n",
       "      <td>0</td>\n",
       "      <td>0</td>\n",
       "      <td>0</td>\n",
       "      <td>0</td>\n",
       "      <td>0</td>\n",
       "      <td>0</td>\n",
       "      <td>0</td>\n",
       "      <td>0</td>\n",
       "      <td>0</td>\n",
       "    </tr>\n",
       "    <tr>\n",
       "      <th>IMP19992965ENG</th>\n",
       "      <td>0</td>\n",
       "      <td>1</td>\n",
       "      <td>0</td>\n",
       "      <td>0</td>\n",
       "      <td>0</td>\n",
       "      <td>0</td>\n",
       "      <td>0</td>\n",
       "      <td>0</td>\n",
       "      <td>0</td>\n",
       "      <td>0</td>\n",
       "      <td>...</td>\n",
       "      <td>0</td>\n",
       "      <td>0</td>\n",
       "      <td>1</td>\n",
       "      <td>0</td>\n",
       "      <td>0</td>\n",
       "      <td>0</td>\n",
       "      <td>0</td>\n",
       "      <td>0</td>\n",
       "      <td>0</td>\n",
       "      <td>0</td>\n",
       "    </tr>\n",
       "    <tr>\n",
       "      <th>JT00193235</th>\n",
       "      <td>0</td>\n",
       "      <td>0</td>\n",
       "      <td>0</td>\n",
       "      <td>0</td>\n",
       "      <td>0</td>\n",
       "      <td>0</td>\n",
       "      <td>0</td>\n",
       "      <td>0</td>\n",
       "      <td>0</td>\n",
       "      <td>0</td>\n",
       "      <td>...</td>\n",
       "      <td>0</td>\n",
       "      <td>0</td>\n",
       "      <td>0</td>\n",
       "      <td>0</td>\n",
       "      <td>0</td>\n",
       "      <td>0</td>\n",
       "      <td>0</td>\n",
       "      <td>0</td>\n",
       "      <td>0</td>\n",
       "      <td>0</td>\n",
       "    </tr>\n",
       "    <tr>\n",
       "      <th>JT03362486</th>\n",
       "      <td>0</td>\n",
       "      <td>0</td>\n",
       "      <td>0</td>\n",
       "      <td>0</td>\n",
       "      <td>0</td>\n",
       "      <td>0</td>\n",
       "      <td>0</td>\n",
       "      <td>0</td>\n",
       "      <td>0</td>\n",
       "      <td>0</td>\n",
       "      <td>...</td>\n",
       "      <td>0</td>\n",
       "      <td>0</td>\n",
       "      <td>0</td>\n",
       "      <td>0</td>\n",
       "      <td>0</td>\n",
       "      <td>0</td>\n",
       "      <td>0</td>\n",
       "      <td>0</td>\n",
       "      <td>0</td>\n",
       "      <td>0</td>\n",
       "    </tr>\n",
       "    <tr>\n",
       "      <th>JT00170454</th>\n",
       "      <td>0</td>\n",
       "      <td>0</td>\n",
       "      <td>0</td>\n",
       "      <td>0</td>\n",
       "      <td>0</td>\n",
       "      <td>0</td>\n",
       "      <td>0</td>\n",
       "      <td>0</td>\n",
       "      <td>0</td>\n",
       "      <td>0</td>\n",
       "      <td>...</td>\n",
       "      <td>0</td>\n",
       "      <td>0</td>\n",
       "      <td>0</td>\n",
       "      <td>0</td>\n",
       "      <td>0</td>\n",
       "      <td>0</td>\n",
       "      <td>0</td>\n",
       "      <td>0</td>\n",
       "      <td>0</td>\n",
       "      <td>0</td>\n",
       "    </tr>\n",
       "  </tbody>\n",
       "</table>\n",
       "<p>5 rows × 6667 columns</p>\n",
       "</div>"
      ],
      "text/plain": [
       "                0     1     2     3     4     5     6     7     8     9     \\\n",
       "JT00142962         0     0     0     0     0     0     0     0     0     0   \n",
       "IMP19992965ENG     0     1     0     0     0     0     0     0     0     0   \n",
       "JT00193235         0     0     0     0     0     0     0     0     0     0   \n",
       "JT03362486         0     0     0     0     0     0     0     0     0     0   \n",
       "JT00170454         0     0     0     0     0     0     0     0     0     0   \n",
       "\n",
       "                ...   6657  6658  6659  6660  6661  6662  6663  6664  6665  \\\n",
       "JT00142962      ...      0     0     0     0     0     0     0     0     0   \n",
       "IMP19992965ENG  ...      0     0     1     0     0     0     0     0     0   \n",
       "JT00193235      ...      0     0     0     0     0     0     0     0     0   \n",
       "JT03362486      ...      0     0     0     0     0     0     0     0     0   \n",
       "JT00170454      ...      0     0     0     0     0     0     0     0     0   \n",
       "\n",
       "                6666  \n",
       "JT00142962         0  \n",
       "IMP19992965ENG     0  \n",
       "JT00193235         0  \n",
       "JT03362486         0  \n",
       "JT00170454         0  \n",
       "\n",
       "[5 rows x 6667 columns]"
      ]
     },
     "execution_count": 2,
     "metadata": {},
     "output_type": "execute_result"
    }
   ],
   "source": [
    "feature_vectors_df = pd.read_hdf(path_or_buf=os.path.join(output_folder, 'feature_vectors.hdf'))\n",
    "feature_vectors_df.head()"
   ]
  },
  {
   "cell_type": "code",
   "execution_count": 4,
   "metadata": {
    "collapsed": false
   },
   "outputs": [
    {
     "data": {
      "text/plain": [
       "(273333, 6667)"
      ]
     },
     "execution_count": 4,
     "metadata": {},
     "output_type": "execute_result"
    }
   ],
   "source": [
    "feature_vectors_df.shape"
   ]
  },
  {
   "cell_type": "code",
   "execution_count": 5,
   "metadata": {
    "collapsed": false
   },
   "outputs": [
    {
     "data": {
      "text/plain": [
       "Int64Index([   0,   12,   22,   34,   41,   83,   91,  102,  103,  104,\n",
       "            ...\n",
       "            6314, 6349, 6376, 6396, 6413, 6447, 6463, 6481, 6537, 6563],\n",
       "           dtype='int64', length=1094)"
      ]
     },
     "execution_count": 5,
     "metadata": {},
     "output_type": "execute_result"
    }
   ],
   "source": [
    "v = feature_vectors_df.sum(axis=0)\n",
    "v = v[v == 0]\n",
    "v.index"
   ]
  },
  {
   "cell_type": "code",
   "execution_count": 6,
   "metadata": {
    "collapsed": false
   },
   "outputs": [
    {
     "data": {
      "text/plain": [
       "(273333, 5573)"
      ]
     },
     "execution_count": 6,
     "metadata": {},
     "output_type": "execute_result"
    }
   ],
   "source": [
    "feature_vectors_df.drop(axis=1, labels=v.index[:], inplace=True)\n",
    "feature_vectors_df.shape"
   ]
  },
  {
   "cell_type": "code",
   "execution_count": 12,
   "metadata": {
    "collapsed": false
   },
   "outputs": [],
   "source": [
    "sample = feature_vectors_df[:10000]"
   ]
  },
  {
   "cell_type": "code",
   "execution_count": 13,
   "metadata": {
    "collapsed": false
   },
   "outputs": [],
   "source": [
    "from sklearn.cluster import KMeans\n",
    "km = KMeans(n_clusters=28, \n",
    "           init='random',\n",
    "           n_init=10,\n",
    "           max_iter=300,\n",
    "           tol=1e-04,\n",
    "           random_state=0)\n",
    "y_km = km.fit_predict(sample)"
   ]
  },
  {
   "cell_type": "code",
   "execution_count": 16,
   "metadata": {
    "collapsed": false
   },
   "outputs": [
    {
     "data": {
      "text/plain": [
       "(10000,)"
      ]
     },
     "execution_count": 16,
     "metadata": {},
     "output_type": "execute_result"
    }
   ],
   "source": [
    "y_km.shape"
   ]
  }
 ],
 "metadata": {
  "kernelspec": {
   "display_name": "Python 3",
   "language": "python",
   "name": "python3"
  },
  "language_info": {
   "codemirror_mode": {
    "name": "ipython",
    "version": 3
   },
   "file_extension": ".py",
   "mimetype": "text/x-python",
   "name": "python",
   "nbconvert_exporter": "python",
   "pygments_lexer": "ipython3",
   "version": "3.5.2"
  }
 },
 "nbformat": 4,
 "nbformat_minor": 0
}
